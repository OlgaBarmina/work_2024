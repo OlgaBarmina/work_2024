{
 "cells": [
  {
   "cell_type": "code",
   "execution_count": 1,
   "id": "048fe54a",
   "metadata": {},
   "outputs": [],
   "source": [
    "n = 1359331\n",
    "c = 1\n",
    "def f(x, n):\n",
    "    return (x**2 + 5)%n"
   ]
  },
  {
   "cell_type": "code",
   "execution_count": 10,
   "id": "2c3e33e1",
   "metadata": {},
   "outputs": [],
   "source": [
    "def pollard(n, a, b, f):\n",
    "    a = f(a, n)\n",
    "    b = f(f(b, n), n)\n",
    "    \n",
    "    c = a - b\n",
    "    d = n\n",
    "    if c < 0:\n",
    "        d1 = 0\n",
    "    else:\n",
    "        while c!=0 and d!=0:\n",
    "            if c>=d:\n",
    "                c = c%d\n",
    "            else:\n",
    "                d = d%c\n",
    "        d1 = c or d\n",
    "    print(a, b, d1)\n",
    "    \n",
    "    if 1 < d1 < n:\n",
    "        return d1\n",
    "    elif d1 == n:\n",
    "        return 'делитель не найден'\n",
    "    else:\n",
    "        pollard(n, a, b, f)"
   ]
  },
  {
   "cell_type": "code",
   "execution_count": 11,
   "id": "b7c85d89",
   "metadata": {},
   "outputs": [
    {
     "name": "stdout",
     "output_type": "stream",
     "text": [
      "6 41 0\n",
      "41 123939 0\n",
      "1686 391594 0\n",
      "123939 438157 0\n",
      "435426 582738 0\n",
      "391594 1144026 0\n",
      "1090062 885749 1181\n"
     ]
    }
   ],
   "source": [
    "pollard(n, c, c, f)"
   ]
  },
  {
   "cell_type": "code",
   "execution_count": null,
   "id": "76e0d5c0",
   "metadata": {},
   "outputs": [],
   "source": []
  }
 ],
 "metadata": {
  "kernelspec": {
   "display_name": "Python 3 (ipykernel)",
   "language": "python",
   "name": "python3"
  },
  "language_info": {
   "codemirror_mode": {
    "name": "ipython",
    "version": 3
   },
   "file_extension": ".py",
   "mimetype": "text/x-python",
   "name": "python",
   "nbconvert_exporter": "python",
   "pygments_lexer": "ipython3",
   "version": "3.9.12"
  }
 },
 "nbformat": 4,
 "nbformat_minor": 5
}
