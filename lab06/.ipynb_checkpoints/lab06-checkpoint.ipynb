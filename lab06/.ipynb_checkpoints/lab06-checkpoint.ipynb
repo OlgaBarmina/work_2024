{
 "cells": [
  {
   "cell_type": "code",
   "execution_count": 2,
   "id": "048fe54a",
   "metadata": {},
   "outputs": [],
   "source": [
    "n = 1359331\n",
    "c = 1\n",
    "def f(x, n):\n",
    "    return (x**2 + 5)%n"
   ]
  },
  {
   "cell_type": "code",
   "execution_count": null,
   "id": "4fb2c758",
   "metadata": {},
   "outputs": [],
   "source": [
    "def pollard(n, c, f):\n",
    "    a, b = c, c\n",
    "    a = f(a, n) % n\n",
    "    b = f(b, n) "
   ]
  }
 ],
 "metadata": {
  "kernelspec": {
   "display_name": "Python 3 (ipykernel)",
   "language": "python",
   "name": "python3"
  },
  "language_info": {
   "codemirror_mode": {
    "name": "ipython",
    "version": 3
   },
   "file_extension": ".py",
   "mimetype": "text/x-python",
   "name": "python",
   "nbconvert_exporter": "python",
   "pygments_lexer": "ipython3",
   "version": "3.9.12"
  }
 },
 "nbformat": 4,
 "nbformat_minor": 5
}
