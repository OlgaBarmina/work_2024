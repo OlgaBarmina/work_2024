{
 "cells": [
  {
   "cell_type": "code",
   "execution_count": 13,
   "id": "67118c50-0e4e-4032-b76c-767ccdf397b5",
   "metadata": {},
   "outputs": [
    {
     "data": {
      "text/plain": [
       "marsh (generic function with 1 method)"
      ]
     },
     "execution_count": 13,
     "metadata": {},
     "output_type": "execute_result"
    }
   ],
   "source": [
    "function marsh(text::String, n::Int, m::Int, pas::String)\n",
    "    text = lowercase(replace(text, \" \"=>\"\"))\n",
    "    alphabet = \"абвгдеёжзийклмнопрстуфхцчшщъыьэюя\"\n",
    "\n",
    "    if length(text) < n*m\n",
    "        text *= alphabet[1:(m*n-length(text))]\n",
    "    end\n",
    "\n",
    "    c = Iterators.flatten(Iterators.repeated(text, 1))\n",
    "    matrix = [collect(c)[(i-1)*m + 1:i*m] for i in 1:n]\n",
    "\n",
    "    mat_pas = [findfirst(==(x), alphabet) for x in pas]\n",
    "    mat_pas_sort = sort(mat_pas)\n",
    "\n",
    "    res = \"\"\n",
    "    for c1 in mat_pas_sort\n",
    "        for i in 1:n\n",
    "            res *= matrix[i][findfirst(==(c1), mat_pas)]\n",
    "        end\n",
    "    end\n",
    "    return res\n",
    "end"
   ]
  },
  {
   "cell_type": "code",
   "execution_count": 14,
   "id": "7ee2b3f9-bbcb-4570-9715-561844b945e1",
   "metadata": {},
   "outputs": [
    {
     "data": {
      "text/plain": [
       "\"еенпнзоатаьовокннеьвлдирияцтиа\""
      ]
     },
     "execution_count": 14,
     "metadata": {},
     "output_type": "execute_result"
    }
   ],
   "source": [
    "test_text = \"нельзя недооценивать противника\"\n",
    "marsh(test_text, 5, 6, \"пароль\")"
   ]
  },
  {
   "cell_type": "code",
   "execution_count": 36,
   "id": "f6d71e03-8254-4e64-a51f-c5f39c5f2cae",
   "metadata": {},
   "outputs": [
    {
     "data": {
      "text/plain": [
       "resh (generic function with 2 methods)"
      ]
     },
     "execution_count": 36,
     "metadata": {},
     "output_type": "execute_result"
    }
   ],
   "source": [
    "using LinearAlgebra\n",
    "\n",
    "function resh(text, pas, k=2)\n",
    "    text = lowercase(replace(text, \" \"=>\"\"))\n",
    "    k_2 = [x+1 for x in 0:(k^2-1)]\n",
    "    matr = zeros(Int, 2*k, 2*k)\n",
    "\n",
    "    for j in 1:k^2\n",
    "        c = 1\n",
    "        for x in 1:k\n",
    "            for y in 1:k\n",
    "                matr[x,y] = k_2[c]\n",
    "                c += 1\n",
    "            end\n",
    "        end\n",
    "        matr = rotr90(matr)\n",
    "    end\n",
    "\n",
    "    mv = Dict(k => 0 for k in k_2)\n",
    "    mv_2 = Dict(1=>2, 2=>4, 3=>3, 4=>3)\n",
    "\n",
    "    for x in 1:k^2\n",
    "        for y in 1:k^2\n",
    "            mv[matr[x,y]] += 1\n",
    "            if mv[matr[x,y]] != mv_2[matr[x,y]]\n",
    "                matr[x,y] = -1\n",
    "            else\n",
    "                matr[x,y] = 0\n",
    "            end\n",
    "        end\n",
    "    end\n",
    "\n",
    "    ct = 1\n",
    "    t = Iterators.flatten(Iterators.repeated(text, 1))\n",
    "    matr2 = fill('0', 2*k, 2*k)\n",
    "\n",
    "    for v in 1:4\n",
    "        for x in 1:k^2\n",
    "            for y in 1:k^2\n",
    "                if matr[x,y] == 0\n",
    "                    matr2[x,y] = text[ct]\n",
    "                    ct += 2\n",
    "                end\n",
    "            end\n",
    "        end\n",
    "        matr = rotr90(matr, -1)\n",
    "    end\n",
    "\n",
    "    alphabet = \"абвгдеёжзийклмнопрстуфхцчшщъыьэюя\"\n",
    "    password = [findfirst(==(x), alphabet) for x in pas]\n",
    "    pas_sort = sort(password)\n",
    "    res = \"\"\n",
    "    for c1 in pas_sort\n",
    "        for i in 1:k^2\n",
    "            res *= string(matr2[i, findfirst(==(c1), password)])\n",
    "        end\n",
    "    end\n",
    "    return res\n",
    "end"
   ]
  },
  {
   "cell_type": "code",
   "execution_count": 37,
   "id": "a23d2f6e-43fa-4e52-9fee-020da493cd61",
   "metadata": {},
   "outputs": [
    {
     "data": {
      "text/plain": [
       "\"осолдргиопповдаи\""
      ]
     },
     "execution_count": 37,
     "metadata": {},
     "output_type": "execute_result"
    }
   ],
   "source": [
    "test_text = \"договор подписали\" \n",
    "resh(test_text, \"шифр\")"
   ]
  },
  {
   "cell_type": "code",
   "execution_count": 38,
   "id": "890f1731-d963-43f4-b8b3-ab53fdb8bb93",
   "metadata": {},
   "outputs": [
    {
     "data": {
      "text/plain": [
       "gen_key (generic function with 1 method)"
      ]
     },
     "execution_count": 38,
     "metadata": {},
     "output_type": "execute_result"
    }
   ],
   "source": [
    "function gen_key(m, pas)\n",
    "    m = lowercase(replace(m, \" \"=>\"\"))\n",
    "    pas = lowercase(replace(pas, \" \"=>\"\"))\n",
    "    pas = collect(pas)\n",
    "    if length(m) == length(pas)\n",
    "        return pas\n",
    "    else\n",
    "        for i in 1:(length(m)-length(pas))\n",
    "            push!(pas, pas[(i-1)%length(pas)+1])\n",
    "        end\n",
    "    end\n",
    "    return join(pas)\n",
    "end"
   ]
  },
  {
   "cell_type": "code",
   "execution_count": 44,
   "id": "dc0b9176-3e12-4cc4-a7f4-146106208c93",
   "metadata": {},
   "outputs": [
    {
     "data": {
      "text/plain": [
       "vigion (generic function with 1 method)"
      ]
     },
     "execution_count": 44,
     "metadata": {},
     "output_type": "execute_result"
    }
   ],
   "source": [
    "function vigion(text, pas)\n",
    "    v = Char[]\n",
    "    text = lowercase(replace(text, \" \"=>\"\"))\n",
    "    for i in 1:2:length(text)*2\n",
    "        x = (Int(text[i]) + Int(pas[i]) - 2*Int('а'))%32 + Int('а')\n",
    "        push!(v, Char(x))\n",
    "    end\n",
    "    return join(v)\n",
    "end"
   ]
  },
  {
   "cell_type": "code",
   "execution_count": 39,
   "id": "566606d8-63d1-41ea-b6ec-6d6ba864080a",
   "metadata": {},
   "outputs": [
    {
     "data": {
      "text/plain": [
       "\"математикаматематикаматема\""
      ]
     },
     "execution_count": 39,
     "metadata": {},
     "output_type": "execute_result"
    }
   ],
   "source": [
    "test_text = \"криптография серьезная наука\" \n",
    "key = \"математика\"\n",
    "gen_key(test_text, key)"
   ]
  },
  {
   "cell_type": "code",
   "execution_count": 45,
   "id": "b9e93cea-2517-4ea9-8398-b4434add02fc",
   "metadata": {},
   "outputs": [
    {
     "data": {
      "text/plain": [
       "\"цръфюохшкффягкььчпчалнтшца\""
      ]
     },
     "execution_count": 45,
     "metadata": {},
     "output_type": "execute_result"
    }
   ],
   "source": [
    "vigion(test_text, gen_key(test_text, key))"
   ]
  },
  {
   "cell_type": "code",
   "execution_count": null,
   "id": "0c2591b9-66f5-4e4c-bcad-3bd613a776a2",
   "metadata": {},
   "outputs": [],
   "source": []
  }
 ],
 "metadata": {
  "kernelspec": {
   "display_name": "Julia 1.10.5",
   "language": "julia",
   "name": "julia-1.10"
  },
  "language_info": {
   "file_extension": ".jl",
   "mimetype": "application/julia",
   "name": "julia",
   "version": "1.10.5"
  }
 },
 "nbformat": 4,
 "nbformat_minor": 5
}
