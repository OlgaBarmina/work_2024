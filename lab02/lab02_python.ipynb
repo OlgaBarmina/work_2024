{
 "cells": [
  {
   "cell_type": "code",
   "execution_count": 3,
   "id": "048fe54a",
   "metadata": {},
   "outputs": [],
   "source": [
    "def marsh(text, n, m, pas):\n",
    "    text = text.lower().replace(' ', '')\n",
    "    alphabet = 'абвгдеёжзийклмнопрстуфхцчшщъыьэюя'\n",
    "    if len(text) < n*m:\n",
    "        text += alphabet[:m*n - len(text)]\n",
    "    c = iter(text)\n",
    "    matrix = [[next(c) for y in range(m)] for x in range(n)]\n",
    "    mat_pas = [alphabet.index(x) for x in pas]\n",
    "    mat_pas_sort = sorted(mat_pas)\n",
    "    \n",
    "    res = ''\n",
    "    for c1 in mat_pas_sort:\n",
    "        for i in range(n):\n",
    "            res += matrix[i][mat_pas.index(c1)]\n",
    "    return res"
   ]
  },
  {
   "cell_type": "code",
   "execution_count": 6,
   "id": "a1138d62",
   "metadata": {},
   "outputs": [
    {
     "data": {
      "text/plain": [
       "'еенпнзоатаьовокннеьвлдирияцтиа'"
      ]
     },
     "execution_count": 6,
     "metadata": {},
     "output_type": "execute_result"
    }
   ],
   "source": [
    "test_text = 'Нельзя недооценивать противника'\n",
    "marsh(test_text, 5, 6, 'пароль')"
   ]
  },
  {
   "cell_type": "code",
   "execution_count": 12,
   "id": "55142d4a",
   "metadata": {},
   "outputs": [],
   "source": [
    "import numpy as np\n",
    "\n",
    "def resh(text, pas, k=2):\n",
    "    text = text.lower().replace(' ', '')\n",
    "    k_2 = [x+1 for x in range(k**2)]\n",
    "    matr = [[0 for x in range (2*k)] for y in range(2*k)]\n",
    "    matr = np.array(matr)\n",
    "    \n",
    "    for x in range(k**2):\n",
    "        c = 0\n",
    "        for x in range(k):\n",
    "            for y in range(k):\n",
    "                matr[x][y] = k_2[c]\n",
    "                c += 1\n",
    "        matr = np.rot90(matr)\n",
    "    mv = {k: 0 for k in k_2}\n",
    "    mv_2 = {1:2, 2:4, 3:3, 4:3}\n",
    "    for x in range(k**2):\n",
    "        for y in range(k**2):\n",
    "            mv[matr[x][y]] += 1\n",
    "            if mv[matr[x][y]] != mv_2[matr[x][y]]:\n",
    "                matr[x][y] = -1\n",
    "            else:\n",
    "                matr[x][y] = 0\n",
    "    \n",
    "    ct = 0\n",
    "    t = iter(text)\n",
    "    matr2 = [['0' for x in range (2*k)] for y in range(2*k)]\n",
    "    for v in range(4):\n",
    "        for x in range(k**2):\n",
    "            for y in range(k**2):\n",
    "                if matr[x][y] == 0:\n",
    "                    matr2[x][y] = text[ct]\n",
    "                    ct += 1\n",
    "        matr = np.rot90(matr, -1)\n",
    "    alphabet = 'абвгдеёжзийклмнопрстуфхцчшщъыьэюя'\n",
    "    password = [alphabet.index(x) for x in pas]\n",
    "    pas_sort = sorted(password)\n",
    "    \n",
    "    res = ''\n",
    "    for c1 in pas_sort:\n",
    "        for i in range(k**2):\n",
    "            res += matr2[i][password.index(c1)]\n",
    "    return res"
   ]
  },
  {
   "cell_type": "code",
   "execution_count": 13,
   "id": "63142af3",
   "metadata": {},
   "outputs": [
    {
     "data": {
      "text/plain": [
       "'овордлгпапиосдои'"
      ]
     },
     "execution_count": 13,
     "metadata": {},
     "output_type": "execute_result"
    }
   ],
   "source": [
    "test_text = 'договор подписали'\n",
    "resh(test_text, 'шифр', 2)"
   ]
  },
  {
   "cell_type": "code",
   "execution_count": 14,
   "id": "649d3219",
   "metadata": {},
   "outputs": [],
   "source": [
    "def gen_key(m, pas):\n",
    "    m = m.lower().replace(' ', '')\n",
    "    pas = pas.lower().replace(' ', '')\n",
    "    pas = list(pas)\n",
    "    if len(m) == len(pas):\n",
    "        return pas\n",
    "    else:\n",
    "        for i in range(len(m)-len(pas)):\n",
    "            pas.append(pas[i%len(pas)])\n",
    "    pas = ''.join(pas)\n",
    "    return pas"
   ]
  },
  {
   "cell_type": "code",
   "execution_count": 21,
   "id": "3487077b",
   "metadata": {},
   "outputs": [],
   "source": [
    "def vigion(text, pas):\n",
    "    v = []\n",
    "    text = text.lower().replace(' ', '')\n",
    "    for i in range(len(text)):\n",
    "        x = (ord(text[i]) + ord(pas[i])) % 32 + ord('а')\n",
    "        v.append(chr(x))\n",
    "    v = ''.join(v)\n",
    "    return v"
   ]
  },
  {
   "cell_type": "code",
   "execution_count": 22,
   "id": "c5c508ad",
   "metadata": {},
   "outputs": [
    {
     "data": {
      "text/plain": [
       "'математикаматематикаматема'"
      ]
     },
     "execution_count": 22,
     "metadata": {},
     "output_type": "execute_result"
    }
   ],
   "source": [
    "test_text = 'криптография серьезная наука'\n",
    "key = 'математика'`\n",
    "gen_key(test_text, key)"
   ]
  },
  {
   "cell_type": "code",
   "execution_count": 23,
   "id": "794e3a87",
   "metadata": {},
   "outputs": [
    {
     "data": {
      "text/plain": [
       "'цръфюохшкффягкььчпчалнтшца'"
      ]
     },
     "execution_count": 23,
     "metadata": {},
     "output_type": "execute_result"
    }
   ],
   "source": [
    "vigion(test_text, gen_key(test_text, key))"
   ]
  },
  {
   "cell_type": "code",
   "execution_count": null,
   "id": "a378b202",
   "metadata": {},
   "outputs": [],
   "source": []
  }
 ],
 "metadata": {
  "kernelspec": {
   "display_name": "Python 3 (ipykernel)",
   "language": "python",
   "name": "python3"
  },
  "language_info": {
   "codemirror_mode": {
    "name": "ipython",
    "version": 3
   },
   "file_extension": ".py",
   "mimetype": "text/x-python",
   "name": "python",
   "nbconvert_exporter": "python",
   "pygments_lexer": "ipython3",
   "version": "3.9.19"
  }
 },
 "nbformat": 4,
 "nbformat_minor": 5
}
