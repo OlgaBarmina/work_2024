{
 "cells": [
  {
   "cell_type": "code",
   "execution_count": 1,
   "id": "048fe54a",
   "metadata": {},
   "outputs": [],
   "source": [
    "def f(c, u, v):\n",
    "    if c<53:\n",
    "        return 10*c%107,u+1,v\n",
    "    else:\n",
    "        return 64*c%107,u,v+1"
   ]
  },
  {
   "cell_type": "code",
   "execution_count": 2,
   "id": "c5965b09",
   "metadata": {},
   "outputs": [],
   "source": [
    "def ext_euclid(a, b):\n",
    "    r=[]\n",
    "    x=[]\n",
    "    y=[]\n",
    "    r.append(a)\n",
    "    r.append(b)\n",
    "    x.append(1)\n",
    "    x.append(0)\n",
    "    y.append(0)\n",
    "    y.append(1)\n",
    "    i=1\n",
    "    while r[i]!=0:\n",
    "        i +=1\n",
    "        r.append(r[i-2]%r[i-1])\n",
    "        if r[i]==0:\n",
    "            d=r[i-1]\n",
    "            x=x[i-1]\n",
    "            y=y[i-1]\n",
    "        else:\n",
    "            x.append(x[i-2]-((r[i-2]//r[i-1])*x[i-1]))\n",
    "            y.append(y[i-2]-((r[i-2]//r[i-1])*y[i-1]))\n",
    "    return d, x, y"
   ]
  },
  {
   "cell_type": "code",
   "execution_count": 11,
   "id": "a723b3b8",
   "metadata": {},
   "outputs": [],
   "source": [
    "def pollard(p, a, b, r, u, v):\n",
    "    c = (a**u * b**v)%p\n",
    "    d = c\n",
    "    \n",
    "    uc = u\n",
    "    vc = v\n",
    "    ud = u\n",
    "    vd = v\n",
    "    i = 0\n",
    "    while c%p != d%p or i==0:\n",
    "        c, uc, vc = f(c, uc, vc)\n",
    "        c %= p\n",
    "        d, ud, vd = f(*f(d, ud, vd))\n",
    "        d %= p\n",
    "        i+=1\n",
    "    \n",
    "    v = vc - vd\n",
    "    u = ud - uc\n",
    "    d,x,y = ext_euclid(v,r)\n",
    "    while d!=1:\n",
    "        v/=d\n",
    "        u/=d\n",
    "        r/=d\n",
    "        d,x,y = ext_euclid(v,r)\n",
    "    return x*u%r"
   ]
  },
  {
   "cell_type": "code",
   "execution_count": 12,
   "id": "e6da623b",
   "metadata": {},
   "outputs": [
    {
     "data": {
      "text/plain": [
       "20"
      ]
     },
     "execution_count": 12,
     "metadata": {},
     "output_type": "execute_result"
    }
   ],
   "source": [
    "pollard(107, 10, 64, 53, 2, 2)"
   ]
  },
  {
   "cell_type": "code",
   "execution_count": null,
   "id": "ae6805b7",
   "metadata": {},
   "outputs": [],
   "source": []
  }
 ],
 "metadata": {
  "kernelspec": {
   "display_name": "Python 3 (ipykernel)",
   "language": "python",
   "name": "python3"
  },
  "language_info": {
   "codemirror_mode": {
    "name": "ipython",
    "version": 3
   },
   "file_extension": ".py",
   "mimetype": "text/x-python",
   "name": "python",
   "nbconvert_exporter": "python",
   "pygments_lexer": "ipython3",
   "version": "3.9.12"
  }
 },
 "nbformat": 4,
 "nbformat_minor": 5
}
