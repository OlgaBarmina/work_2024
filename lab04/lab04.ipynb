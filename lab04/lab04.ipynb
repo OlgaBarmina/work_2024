{
 "cells": [
  {
   "cell_type": "code",
   "execution_count": 17,
   "id": "048fe54a",
   "metadata": {},
   "outputs": [],
   "source": [
    "def euclid(a,b):\n",
    "    while a!=0 and b!=0:\n",
    "        if a>=b:\n",
    "            a = a%b\n",
    "        else:\n",
    "            b = b%a\n",
    "    return a or b"
   ]
  },
  {
   "cell_type": "code",
   "execution_count": 18,
   "id": "5309df37",
   "metadata": {},
   "outputs": [
    {
     "data": {
      "text/plain": [
       "3"
      ]
     },
     "execution_count": 18,
     "metadata": {},
     "output_type": "execute_result"
    }
   ],
   "source": [
    "a = 12345\n",
    "b = 54321\n",
    "euclid(a,b)"
   ]
  },
  {
   "cell_type": "code",
   "execution_count": 19,
   "id": "bb2ff9e3",
   "metadata": {},
   "outputs": [],
   "source": [
    "def bin_euclid(a,b):\n",
    "    g = 1\n",
    "    while a%2 == 0 and b%2 == 0:\n",
    "        a /= 2\n",
    "        b /= 2\n",
    "        g *= 2\n",
    "    u = a\n",
    "    v = b\n",
    "    while u != 0:\n",
    "        if u%2 == 0:\n",
    "            u /= 2\n",
    "        if v%2 == 0:\n",
    "            v /= 2\n",
    "        if u >= v:\n",
    "            u -= v\n",
    "        else:\n",
    "            v -= u\n",
    "    return g*v"
   ]
  },
  {
   "cell_type": "code",
   "execution_count": 20,
   "id": "ccb0f0c9",
   "metadata": {},
   "outputs": [
    {
     "data": {
      "text/plain": [
       "1.0"
      ]
     },
     "execution_count": 20,
     "metadata": {},
     "output_type": "execute_result"
    }
   ],
   "source": [
    "bin_euclid(35,1359331)"
   ]
  },
  {
   "cell_type": "code",
   "execution_count": 25,
   "id": "7194747e",
   "metadata": {},
   "outputs": [],
   "source": [
    "def ext_euclid(a, b):\n",
    "    r=[]\n",
    "    x=[]\n",
    "    y=[]\n",
    "    r.append(a)\n",
    "    r.append(b)\n",
    "    x.append(1)\n",
    "    x.append(0)\n",
    "    y.append(0)\n",
    "    y.append(1)\n",
    "    i=1\n",
    "    while r[i]!=0:\n",
    "        i +=1\n",
    "        r.append(r[i-2]%r[i-1])\n",
    "        if r[i]==0:\n",
    "            d=r[i-1]\n",
    "            x=x[i-1]\n",
    "            y=y[i-1]\n",
    "        else:\n",
    "            x.append(x[i-2]-((r[i-2]//r[i-1])*x[i-1]))\n",
    "            y.append(y[i-2]-((r[i-2]//r[i-1])*y[i-1]))\n",
    "    return d, x, y"
   ]
  },
  {
   "cell_type": "code",
   "execution_count": 26,
   "id": "0637d3f6",
   "metadata": {},
   "outputs": [
    {
     "data": {
      "text/plain": [
       "(3, 3617, -822)"
      ]
     },
     "execution_count": 26,
     "metadata": {},
     "output_type": "execute_result"
    }
   ],
   "source": [
    "ext_euclid(a,b)"
   ]
  },
  {
   "cell_type": "code",
   "execution_count": 23,
   "id": "7028988d",
   "metadata": {},
   "outputs": [],
   "source": [
    "def ext_bin_euclid(a1,b1):\n",
    "    g = 1\n",
    "    while a1%2 == 0 and b1%2 == 0:\n",
    "        a1 /= 2\n",
    "        b1 /= 2\n",
    "        g *= 2\n",
    "    u, v = a1, b1\n",
    "    a, b, c, d = 1, 0, 0, 1\n",
    "    while u != 0:\n",
    "        while u%2 == 0:\n",
    "            u /= 2\n",
    "            if a%2 == 0 and b%2 == 0:\n",
    "                a /= 2\n",
    "                b /= 2\n",
    "            else:\n",
    "                a = (a + b1)//2\n",
    "                b = (b - a1)//2\n",
    "        while v%2 == 0:\n",
    "            v /= 2\n",
    "            if c%2 == 0 and d%2 == 0:\n",
    "                c /= 2\n",
    "                d /= 2\n",
    "            else:\n",
    "                c = (c + b1)//2\n",
    "                d = (d - a1)//2\n",
    "        if u >= v:\n",
    "            u -= v\n",
    "            a -= c\n",
    "            b -= d\n",
    "        else:\n",
    "            v -= u\n",
    "            c -= a\n",
    "            d -= b\n",
    "    d = g*v\n",
    "    x = c\n",
    "    y = d\n",
    "    return d, x, y"
   ]
  },
  {
   "cell_type": "code",
   "execution_count": 24,
   "id": "38746cb3",
   "metadata": {},
   "outputs": [
    {
     "data": {
      "text/plain": [
       "(3.0, -14490.0, 3.0)"
      ]
     },
     "execution_count": 24,
     "metadata": {},
     "output_type": "execute_result"
    }
   ],
   "source": [
    "ext_bin_euclid(a,b)"
   ]
  },
  {
   "cell_type": "code",
   "execution_count": null,
   "id": "7866afff",
   "metadata": {},
   "outputs": [],
   "source": []
  }
 ],
 "metadata": {
  "kernelspec": {
   "display_name": "Python 3 (ipykernel)",
   "language": "python",
   "name": "python3"
  },
  "language_info": {
   "codemirror_mode": {
    "name": "ipython",
    "version": 3
   },
   "file_extension": ".py",
   "mimetype": "text/x-python",
   "name": "python",
   "nbconvert_exporter": "python",
   "pygments_lexer": "ipython3",
   "version": "3.9.12"
  }
 },
 "nbformat": 4,
 "nbformat_minor": 5
}
