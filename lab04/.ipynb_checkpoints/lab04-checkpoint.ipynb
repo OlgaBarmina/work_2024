{
 "cells": [
  {
   "cell_type": "code",
   "execution_count": 1,
   "id": "048fe54a",
   "metadata": {},
   "outputs": [
    {
     "data": {
      "text/plain": [
       "euclid (generic function with 1 method)"
      ]
     },
     "execution_count": 1,
     "metadata": {},
     "output_type": "execute_result"
    }
   ],
   "source": [
    "function euclid(a, b)\n",
    "    while a != 0 && b != 0\n",
    "        if a >= b\n",
    "            a = a % b\n",
    "        else\n",
    "            b = b % a\n",
    "        end\n",
    "    end\n",
    "    return a != 0 ? a : b\n",
    "end"
   ]
  },
  {
   "cell_type": "code",
   "execution_count": 2,
   "id": "5309df37",
   "metadata": {},
   "outputs": [
    {
     "data": {
      "text/plain": [
       "3"
      ]
     },
     "execution_count": 2,
     "metadata": {},
     "output_type": "execute_result"
    }
   ],
   "source": [
    "a = 12345\n",
    "b = 54321\n",
    "euclid(a,b)"
   ]
  },
  {
   "cell_type": "code",
   "execution_count": 3,
   "id": "bb2ff9e3",
   "metadata": {},
   "outputs": [
    {
     "data": {
      "text/plain": [
       "bin_euclid (generic function with 1 method)"
      ]
     },
     "execution_count": 3,
     "metadata": {},
     "output_type": "execute_result"
    }
   ],
   "source": [
    "function bin_euclid(a, b)\n",
    "    g = 1\n",
    "    while a % 2 == 0 && b % 2 == 0\n",
    "        a /= 2\n",
    "        b /= 2\n",
    "        g *= 2\n",
    "    end\n",
    "    u = a\n",
    "    v = b\n",
    "    while u != 0\n",
    "        if u % 2 == 0\n",
    "            u /= 2\n",
    "        end\n",
    "        if v % 2 == 0\n",
    "            v /= 2\n",
    "        end\n",
    "        if u >= v\n",
    "            u -= v\n",
    "        else\n",
    "            v -= u\n",
    "        end\n",
    "    end\n",
    "    return g * v\n",
    "end"
   ]
  },
  {
   "cell_type": "code",
   "execution_count": 4,
   "id": "ccb0f0c9",
   "metadata": {},
   "outputs": [
    {
     "data": {
      "text/plain": [
       "1.0"
      ]
     },
     "execution_count": 4,
     "metadata": {},
     "output_type": "execute_result"
    }
   ],
   "source": [
    "bin_euclid(35,1359331)"
   ]
  },
  {
   "cell_type": "code",
   "execution_count": 17,
   "id": "7194747e",
   "metadata": {},
   "outputs": [
    {
     "data": {
      "text/plain": [
       "ext_euclid (generic function with 1 method)"
      ]
     },
     "execution_count": 17,
     "metadata": {},
     "output_type": "execute_result"
    }
   ],
   "source": [
    "function ext_euclid(a, b)\n",
    "    r = Int[]\n",
    "    x = Int[]\n",
    "    y = Int[]\n",
    "    d = 0\n",
    "    push!(r, a)\n",
    "    push!(r, b)\n",
    "    push!(x, 1)\n",
    "    push!(x, 0)\n",
    "    push!(y, 0)\n",
    "    push!(y, 1)\n",
    "    i = 2\n",
    "    while r[i] != 0\n",
    "        i += 1\n",
    "        push!(r, r[i-2] % r[i-1])\n",
    "        if r[i] == 0\n",
    "            d = r[i-1]\n",
    "            x_val = x[i-1]\n",
    "            y_val = y[i-1]\n",
    "        else\n",
    "            push!(x, x[i-2] - (div(r[i-2], r[i-1]) * x[i-1]))\n",
    "            push!(y, y[i-2] - (div(r[i-2], r[i-1]) * y[i-1]))\n",
    "        end\n",
    "    end\n",
    "    return d, x, y\n",
    "end"
   ]
  },
  {
   "cell_type": "code",
   "execution_count": 18,
   "id": "0637d3f6",
   "metadata": {},
   "outputs": [
    {
     "data": {
      "text/plain": [
       "(3, [1, 0, 1, -4, 9, -22, 3617], [0, 1, 0, 1, -2, 5, -822])"
      ]
     },
     "execution_count": 18,
     "metadata": {},
     "output_type": "execute_result"
    }
   ],
   "source": [
    "ext_euclid(a,b)"
   ]
  },
  {
   "cell_type": "code",
   "execution_count": 19,
   "id": "7028988d",
   "metadata": {},
   "outputs": [
    {
     "data": {
      "text/plain": [
       "ext_bin_euclid (generic function with 1 method)"
      ]
     },
     "execution_count": 19,
     "metadata": {},
     "output_type": "execute_result"
    }
   ],
   "source": [
    "function ext_bin_euclid(a1, b1)\n",
    "    g = 1\n",
    "    while a1 % 2 == 0 && b1 % 2 == 0\n",
    "        a1 /= 2\n",
    "        b1 /= 2\n",
    "        g *= 2\n",
    "    end\n",
    "    u, v = a1, b1\n",
    "    a, b, c, d = 1, 0, 0, 1\n",
    "    while u != 0\n",
    "        while u % 2 == 0\n",
    "            u /= 2\n",
    "            if a % 2 == 0 && b % 2 == 0\n",
    "                a /= 2\n",
    "                b /= 2\n",
    "            else\n",
    "                a = (a + b1) ÷ 2\n",
    "                b = (b - a1) ÷ 2\n",
    "            end\n",
    "        end\n",
    "        while v % 2 == 0\n",
    "            v /= 2\n",
    "            if c % 2 == 0 && d % 2 == 0\n",
    "                c /= 2\n",
    "                d /= 2\n",
    "            else\n",
    "                c = (c + b1) ÷ 2\n",
    "                d = (d - a1) ÷ 2\n",
    "            end\n",
    "        end\n",
    "        if u >= v\n",
    "            u -= v\n",
    "            a -= c\n",
    "            b -= d\n",
    "        else\n",
    "            v -= u\n",
    "            c -= a\n",
    "            d -= b\n",
    "        end\n",
    "    end\n",
    "    d = g * v\n",
    "    x = c\n",
    "    y = d\n",
    "    return d, x, y\n",
    "end"
   ]
  },
  {
   "cell_type": "code",
   "execution_count": 20,
   "id": "38746cb3",
   "metadata": {},
   "outputs": [
    {
     "data": {
      "text/plain": [
       "(3.0, -14490.0, 3.0)"
      ]
     },
     "execution_count": 20,
     "metadata": {},
     "output_type": "execute_result"
    }
   ],
   "source": [
    "ext_bin_euclid(a,b)"
   ]
  },
  {
   "cell_type": "code",
   "execution_count": null,
   "id": "7866afff",
   "metadata": {},
   "outputs": [],
   "source": []
  }
 ],
 "metadata": {
  "kernelspec": {
   "display_name": "Julia 1.10.5",
   "language": "julia",
   "name": "julia-1.10"
  },
  "language_info": {
   "file_extension": ".jl",
   "mimetype": "application/julia",
   "name": "julia",
   "version": "1.10.5"
  }
 },
 "nbformat": 4,
 "nbformat_minor": 5
}
