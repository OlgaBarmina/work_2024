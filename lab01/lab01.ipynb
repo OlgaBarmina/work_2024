{
 "cells": [
  {
   "cell_type": "code",
   "execution_count": 6,
   "id": "388d3036",
   "metadata": {},
   "outputs": [],
   "source": [
    "text = 'Hello World!'\n",
    "\n",
    "def ceasars(text, k):\n",
    "    res = ''\n",
    "    for c in text:\n",
    "        if c.isalpha():\n",
    "            if c.isupper():\n",
    "                start = ord('A')\n",
    "            else:\n",
    "                start = ord('a')\n",
    "            new_c = chr((ord(c) - start + k) % 26 + start)\n",
    "        else:\n",
    "            new_c = c\n",
    "        res += new_c\n",
    "    return res"
   ]
  },
  {
   "cell_type": "code",
   "execution_count": 7,
   "id": "b8289a65",
   "metadata": {},
   "outputs": [
    {
     "data": {
      "text/plain": [
       "'Khoor Zruog!'"
      ]
     },
     "execution_count": 7,
     "metadata": {},
     "output_type": "execute_result"
    }
   ],
   "source": [
    "ceasars(text, 3)"
   ]
  },
  {
   "cell_type": "code",
   "execution_count": 10,
   "id": "b245cd1b",
   "metadata": {},
   "outputs": [],
   "source": [
    "def atbash(text):\n",
    "    res = ''\n",
    "    for c in text:\n",
    "        if c.isalpha():\n",
    "            if c.isupper():\n",
    "                start = ord('A')\n",
    "                end = ord('Z')\n",
    "            else:\n",
    "                start = ord('a')\n",
    "                end = ord('z')\n",
    "            new_c = chr(end + start - ord(c))\n",
    "        else:\n",
    "            new_c = c\n",
    "        res += new_c\n",
    "    return res"
   ]
  },
  {
   "cell_type": "code",
   "execution_count": 11,
   "id": "e9042167",
   "metadata": {},
   "outputs": [
    {
     "data": {
      "text/plain": [
       "'Svool Dliow!'"
      ]
     },
     "execution_count": 11,
     "metadata": {},
     "output_type": "execute_result"
    }
   ],
   "source": [
    "atbash(text)"
   ]
  },
  {
   "cell_type": "code",
   "execution_count": null,
   "id": "048fe54a",
   "metadata": {},
   "outputs": [],
   "source": []
  }
 ],
 "metadata": {
  "kernelspec": {
   "display_name": "Python 3 (ipykernel)",
   "language": "python",
   "name": "python3"
  },
  "language_info": {
   "codemirror_mode": {
    "name": "ipython",
    "version": 3
   },
   "file_extension": ".py",
   "mimetype": "text/x-python",
   "name": "python",
   "nbconvert_exporter": "python",
   "pygments_lexer": "ipython3",
   "version": "3.9.12"
  }
 },
 "nbformat": 4,
 "nbformat_minor": 5
}
