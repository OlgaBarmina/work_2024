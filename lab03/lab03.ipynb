{
 "cells": [
  {
   "cell_type": "code",
   "execution_count": 2,
   "id": "90b52bf7-e6a8-4b8b-8e9a-a47e823d163b",
   "metadata": {},
   "outputs": [
    {
     "data": {
      "text/plain": [
       "gen_key (generic function with 1 method)"
      ]
     },
     "execution_count": 2,
     "metadata": {},
     "output_type": "execute_result"
    }
   ],
   "source": [
    "function gen_key(m, pas)\n",
    "    m = lowercase(replace(m, \" \" => \"\"))\n",
    "    pas = lowercase(replace(pas, \" \" => \"\"))\n",
    "    pas = collect(pas)\n",
    "    if length(m) == length(pas)\n",
    "        return pas\n",
    "    else\n",
    "        for i in 1:(length(m)-length(pas))\n",
    "            push!(pas, pas[(i-1)%length(pas)+1])\n",
    "        end\n",
    "    end\n",
    "    return pas\n",
    "end"
   ]
  },
  {
   "cell_type": "code",
   "execution_count": 3,
   "id": "7034c958-3703-4990-8949-b5f56ac100b6",
   "metadata": {},
   "outputs": [
    {
     "data": {
      "text/plain": [
       "gamma (generic function with 1 method)"
      ]
     },
     "execution_count": 3,
     "metadata": {},
     "output_type": "execute_result"
    }
   ],
   "source": [
    "function gamma(text, pas)\n",
    "    alphabet = collect(\"абвгдежзийклмнопрстуфхцчшщъыьэюя\")\n",
    "    pas = gen_key(text, pas)\n",
    "    text = collect(text)\n",
    "\n",
    "    res = \"\"\n",
    "    for i in 1:length(text)\n",
    "        c = (Int(text[i]) + Int(pas[i]) - 2*Int('а')) % 32\n",
    "        res += alphabet[c]\n",
    "    end\n",
    "    return res\n",
    "end"
   ]
  },
  {
   "cell_type": "code",
   "execution_count": null,
   "id": "6529c623-63cf-4aaf-8847-e3d67181e6bf",
   "metadata": {},
   "outputs": [],
   "source": [
    "gamma("
   ]
  }
 ],
 "metadata": {
  "kernelspec": {
   "display_name": "Julia 1.10.5",
   "language": "julia",
   "name": "julia-1.10"
  },
  "language_info": {
   "file_extension": ".jl",
   "mimetype": "application/julia",
   "name": "julia",
   "version": "1.10.5"
  }
 },
 "nbformat": 4,
 "nbformat_minor": 5
}
