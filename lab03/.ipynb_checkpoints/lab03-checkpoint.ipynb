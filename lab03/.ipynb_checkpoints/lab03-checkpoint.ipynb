{
 "cells": [
  {
   "cell_type": "code",
   "execution_count": 12,
   "id": "7e1ee928",
   "metadata": {},
   "outputs": [],
   "source": [
    "def gen_key(m, pas):\n",
    "    m = m.lower().replace(' ', '')\n",
    "    pas = pas.lower().replace(' ', '')\n",
    "    pas = list(pas)\n",
    "    if len(m) == len(pas):\n",
    "        return pas\n",
    "    else:\n",
    "        for i in range(len(m)-len(pas)):\n",
    "            pas.append(pas[i%len(pas)])\n",
    "    return pas"
   ]
  },
  {
   "cell_type": "code",
   "execution_count": 37,
   "id": "73694771",
   "metadata": {},
   "outputs": [],
   "source": [
    "def gamma(text, pas):\n",
    "    alphabet = 'абвгдежзийклмнопрстуфхцчшщъыьэюя'\n",
    "    alphabet = list(alphabet)\n",
    "    pas = gen_key(text, pas)\n",
    "    text = list(text)\n",
    "    \n",
    "    res = ''\n",
    "    for i in range(len(text)):\n",
    "        c = (ord(text[i]) + ord(pas[i]) - 2*ord('а') + 2) % 31\n",
    "        res += alphabet[c-1]\n",
    "    return res"
   ]
  },
  {
   "cell_type": "code",
   "execution_count": 38,
   "id": "add8f7f2",
   "metadata": {},
   "outputs": [
    {
     "data": {
      "text/plain": [
       "'усхчбл'"
      ]
     },
     "execution_count": 38,
     "metadata": {},
     "output_type": "execute_result"
    }
   ],
   "source": [
    "gamma('приказ', 'гамма')"
   ]
  },
  {
   "cell_type": "code",
   "execution_count": null,
   "id": "9275b9e6",
   "metadata": {},
   "outputs": [],
   "source": []
  }
 ],
 "metadata": {
  "kernelspec": {
   "display_name": "Python 3 (ipykernel)",
   "language": "python",
   "name": "python3"
  },
  "language_info": {
   "codemirror_mode": {
    "name": "ipython",
    "version": 3
   },
   "file_extension": ".py",
   "mimetype": "text/x-python",
   "name": "python",
   "nbconvert_exporter": "python",
   "pygments_lexer": "ipython3",
   "version": "3.9.12"
  }
 },
 "nbformat": 4,
 "nbformat_minor": 5
}
