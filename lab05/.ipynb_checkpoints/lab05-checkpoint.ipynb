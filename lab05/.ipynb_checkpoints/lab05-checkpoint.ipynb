{
 "cells": [
  {
   "cell_type": "code",
   "execution_count": 3,
   "id": "048fe54a",
   "metadata": {},
   "outputs": [],
   "source": [
    "a = 29\n",
    "b = 49"
   ]
  },
  {
   "cell_type": "code",
   "execution_count": 1,
   "id": "ce2c5ab3",
   "metadata": {},
   "outputs": [],
   "source": [
    "def ferm(a, n):\n",
    "    r = (a**(n-1))%n\n",
    "    if r == 1:\n",
    "        return 'probably, prime'\n",
    "    else:\n",
    "        return 'not prime'"
   ]
  },
  {
   "cell_type": "code",
   "execution_count": 4,
   "id": "6d12152a",
   "metadata": {},
   "outputs": [
    {
     "data": {
      "text/plain": [
       "'probably, prime'"
      ]
     },
     "execution_count": 4,
     "metadata": {},
     "output_type": "execute_result"
    }
   ],
   "source": [
    "ferm(8,a)"
   ]
  },
  {
   "cell_type": "code",
   "execution_count": 5,
   "id": "720ea9c6",
   "metadata": {},
   "outputs": [
    {
     "data": {
      "text/plain": [
       "'not prime'"
      ]
     },
     "execution_count": 5,
     "metadata": {},
     "output_type": "execute_result"
    }
   ],
   "source": [
    "ferm(8,b)"
   ]
  },
  {
   "cell_type": "code",
   "execution_count": 13,
   "id": "df4bf7ef",
   "metadata": {},
   "outputs": [],
   "source": [
    "from sympy import primefactors\n",
    "\n",
    "def jacobi(a, n):\n",
    "    g = 1\n",
    "    while True:\n",
    "        if a == 0:\n",
    "            return 0\n",
    "        elif a == 1:\n",
    "            return g\n",
    "        else:\n",
    "            k = primefactors(a)[0]\n",
    "            if len(primefactors(a)) == 1:\n",
    "                a1 = a\n",
    "            else:\n",
    "                a1 = primefactors(a)[1]\n",
    "            if k%2 == 1:\n",
    "                if (n-1)%8 == 0 or (n+1)%8 == 0:\n",
    "                    s = 1\n",
    "                if (n-3)%8 == 0 or (n+3)%8 == 0:\n",
    "                    s = -1\n",
    "            else:\n",
    "                s = 1\n",
    "            if a1 == 1:\n",
    "                return g*s\n",
    "            if (n-3)%4 == 0 or (a1-3)%4 == 0:\n",
    "                s = -s\n",
    "            a = n%a1\n",
    "            n = a1\n",
    "            g = g*s"
   ]
  },
  {
   "cell_type": "code",
   "execution_count": 14,
   "id": "14f01c31",
   "metadata": {},
   "outputs": [
    {
     "data": {
      "text/plain": [
       "-1"
      ]
     },
     "execution_count": 14,
     "metadata": {},
     "output_type": "execute_result"
    }
   ],
   "source": [
    "jacobi(8, a)"
   ]
  },
  {
   "cell_type": "code",
   "execution_count": 15,
   "id": "e39a395b",
   "metadata": {},
   "outputs": [
    {
     "data": {
      "text/plain": [
       "1"
      ]
     },
     "execution_count": 15,
     "metadata": {},
     "output_type": "execute_result"
    }
   ],
   "source": [
    "jacobi(8, b)"
   ]
  },
  {
   "cell_type": "code",
   "execution_count": 18,
   "id": "218e846e",
   "metadata": {},
   "outputs": [],
   "source": [
    "def sol_st(a, n):\n",
    "    r = (a**((n-1)/2))%n\n",
    "    if r != 1 and r != n-1:\n",
    "        return 'not prime'\n",
    "    s = jacobi(a, n)\n",
    "    if (r-s)%n != 0:\n",
    "        return 'not prime'\n",
    "    else:\n",
    "        return 'probably prime'"
   ]
  },
  {
   "cell_type": "code",
   "execution_count": 19,
   "id": "311a97b4",
   "metadata": {},
   "outputs": [
    {
     "data": {
      "text/plain": [
       "'probably prime'"
      ]
     },
     "execution_count": 19,
     "metadata": {},
     "output_type": "execute_result"
    }
   ],
   "source": [
    "sol_st(8, a)"
   ]
  },
  {
   "cell_type": "code",
   "execution_count": 20,
   "id": "664ddd61",
   "metadata": {},
   "outputs": [
    {
     "data": {
      "text/plain": [
       "'not prime'"
      ]
     },
     "execution_count": 20,
     "metadata": {},
     "output_type": "execute_result"
    }
   ],
   "source": [
    "sol_st(8, b)"
   ]
  },
  {
   "cell_type": "code",
   "execution_count": 21,
   "id": "b616168c",
   "metadata": {},
   "outputs": [],
   "source": [
    "def mil_rab(a, n):\n",
    "    s = primefactors(n-1)[0]\n",
    "    if len(primefactors(n-1)) == 1:\n",
    "        r = n-1\n",
    "    else:\n",
    "        r = primefactors(n-1)[1]\n",
    "    y = (a**r)%n\n",
    "    if y != 1 and y != n-1:\n",
    "        j = 1\n",
    "        while j <= s-1 and y != n-1:\n",
    "            y = (y**2)%n\n",
    "            if y == 1:\n",
    "                return 'not prime'\n",
    "            j += 1\n",
    "        if y != n-1:\n",
    "            return 'not prime'\n",
    "    return 'probably prime'"
   ]
  },
  {
   "cell_type": "code",
   "execution_count": 22,
   "id": "85bf7687",
   "metadata": {},
   "outputs": [
    {
     "data": {
      "text/plain": [
       "'probably prime'"
      ]
     },
     "execution_count": 22,
     "metadata": {},
     "output_type": "execute_result"
    }
   ],
   "source": [
    "mil_rab(8, a)"
   ]
  },
  {
   "cell_type": "code",
   "execution_count": 23,
   "id": "0c72c53a",
   "metadata": {},
   "outputs": [
    {
     "data": {
      "text/plain": [
       "'not prime'"
      ]
     },
     "execution_count": 23,
     "metadata": {},
     "output_type": "execute_result"
    }
   ],
   "source": [
    "mil_rab(8, b)"
   ]
  },
  {
   "cell_type": "code",
   "execution_count": null,
   "id": "c97ed5d0",
   "metadata": {},
   "outputs": [],
   "source": []
  }
 ],
 "metadata": {
  "kernelspec": {
   "display_name": "Python 3 (ipykernel)",
   "language": "python",
   "name": "python3"
  },
  "language_info": {
   "codemirror_mode": {
    "name": "ipython",
    "version": 3
   },
   "file_extension": ".py",
   "mimetype": "text/x-python",
   "name": "python",
   "nbconvert_exporter": "python",
   "pygments_lexer": "ipython3",
   "version": "3.9.12"
  }
 },
 "nbformat": 4,
 "nbformat_minor": 5
}
