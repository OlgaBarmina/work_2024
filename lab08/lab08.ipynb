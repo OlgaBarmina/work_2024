{
 "cells": [
  {
   "cell_type": "code",
   "execution_count": 52,
   "id": "048fe54a",
   "metadata": {},
   "outputs": [],
   "source": [
    "str2num = {chr(l_ord): (l_ord-ord('A')+10) for l_ord in range(ord('A'),ord('Z')+1)}\n",
    "for n in '0123456789':\n",
    "    str2num[n] = int(n)\n",
    "num2str = {v: k for (k,v) in str2num.items()}\n",
    "\n",
    "def add_0(u, n,f):\n",
    "    res = [0]*(n-len(u))\n",
    "    if f:\n",
    "        res.extend(u)\n",
    "        return res\n",
    "    return \"\".join([num2str[i] for i in res])\n",
    "    \n",
    "def make_i(u_s, v_s, f=False,f2=True):\n",
    "    u = [str2num[l] for l in u_s]\n",
    "    v = [str2num[l] for l in v_s]\n",
    "    \n",
    "    if f:\n",
    "        if len(u) != len(v):\n",
    "            if len(u) < len(v):\n",
    "                u = add_0(u, len(v),f2)\n",
    "            else:\n",
    "                v = add_0(v, len(u),f2)\n",
    "    return u,v"
   ]
  },
  {
   "cell_type": "code",
   "execution_count": 53,
   "id": "63df04c4",
   "metadata": {},
   "outputs": [],
   "source": [
    "def add(u,v,b):\n",
    "    u,v = make_i(u,v, True)\n",
    "    n = len(u)\n",
    "    k = 0\n",
    "    w = []\n",
    "    for j in range(n-1, -1, -1):\n",
    "        w.append((u[j]+v[j]+k)%b)\n",
    "        k = (u[j]+v[j]+k)//b\n",
    "    w.append(k)\n",
    "    w.reverse()\n",
    "    return \"\".join([num2str[i] for i in w])"
   ]
  },
  {
   "cell_type": "code",
   "execution_count": 54,
   "id": "d26c9014",
   "metadata": {},
   "outputs": [
    {
     "data": {
      "text/plain": [
       "'0561'"
      ]
     },
     "execution_count": 54,
     "metadata": {},
     "output_type": "execute_result"
    }
   ],
   "source": [
    "add(\"109\",\"452\",10)"
   ]
  },
  {
   "cell_type": "code",
   "execution_count": 55,
   "id": "97a8b1e9",
   "metadata": {},
   "outputs": [
    {
     "data": {
      "text/plain": [
       "'055B'"
      ]
     },
     "execution_count": 55,
     "metadata": {},
     "output_type": "execute_result"
    }
   ],
   "source": [
    "add(\"109\",\"452\",16)"
   ]
  },
  {
   "cell_type": "code",
   "execution_count": 56,
   "id": "29103416",
   "metadata": {},
   "outputs": [],
   "source": [
    "def subtract(u,v,b):\n",
    "    u,v = make_i(u,v, True)\n",
    "    n = len(u)\n",
    "    k = 0\n",
    "    w = []\n",
    "    for j in range(n-1, -1, -1):\n",
    "        w.append((u[j]-v[j]+k)%b)\n",
    "        k = (u[j]-v[j]+k)//b\n",
    "    w.append(k)\n",
    "    w.reverse()\n",
    "    return \"\".join([num2str[i] for i in w])"
   ]
  },
  {
   "cell_type": "code",
   "execution_count": 57,
   "id": "19a9411d",
   "metadata": {},
   "outputs": [
    {
     "data": {
      "text/plain": [
       "'0738'"
      ]
     },
     "execution_count": 57,
     "metadata": {},
     "output_type": "execute_result"
    }
   ],
   "source": [
    "subtract(\"865\",\"127\",10)"
   ]
  },
  {
   "cell_type": "code",
   "execution_count": 58,
   "id": "4ab44535",
   "metadata": {},
   "outputs": [
    {
     "data": {
      "text/plain": [
       "'073E'"
      ]
     },
     "execution_count": 58,
     "metadata": {},
     "output_type": "execute_result"
    }
   ],
   "source": [
    "subtract(\"865\",\"127\",16)"
   ]
  },
  {
   "cell_type": "code",
   "execution_count": 59,
   "id": "cad46024",
   "metadata": {},
   "outputs": [],
   "source": [
    "def multiply(u,v,b):\n",
    "    u,v = make_i(u,v, False)\n",
    "    n = len(u)\n",
    "    m = len(v)\n",
    "    w = [0] * (m+n)\n",
    "    for j in range(m-1,-1,-1):\n",
    "        if v[j] != 0 :\n",
    "            k = 0\n",
    "            for i in range(n-1,-1,-1):\n",
    "                t = u[i]*v[j] + w[i+j+1] + k\n",
    "                w[i+j+1] = t % b\n",
    "                k = t // b\n",
    "            w[j] = k\n",
    "    return \"\".join([num2str[i] for i in w])"
   ]
  },
  {
   "cell_type": "code",
   "execution_count": 60,
   "id": "182370fe",
   "metadata": {},
   "outputs": [
    {
     "data": {
      "text/plain": [
       "'0180'"
      ]
     },
     "execution_count": 60,
     "metadata": {},
     "output_type": "execute_result"
    }
   ],
   "source": [
    "multiply(\"15\",\"12\",10)"
   ]
  },
  {
   "cell_type": "code",
   "execution_count": 61,
   "id": "401d8924",
   "metadata": {},
   "outputs": [
    {
     "data": {
      "text/plain": [
       "'7E0C'"
      ]
     },
     "execution_count": 61,
     "metadata": {},
     "output_type": "execute_result"
    }
   ],
   "source": [
    "multiply(\"A81\",\"C\",16)"
   ]
  },
  {
   "cell_type": "code",
   "execution_count": 62,
   "id": "42c650f0",
   "metadata": {},
   "outputs": [],
   "source": [
    "def multiply_fast(u,v,b):\n",
    "    u,v = make_i(u,v, False)\n",
    "    n = len(u)\n",
    "    m = len(v)\n",
    "    w = [0] * (m+n)\n",
    "    t = 0\n",
    "    for s in range(0, n+m-1):\n",
    "        for i in range(0, s+1):\n",
    "            t = t+u[n-i-1]*v[m-s+i-1]\n",
    "        w[m+n-s-1] = t%b\n",
    "        t = t//b\n",
    "    return \"\".join([num2str[i] for i in w])"
   ]
  },
  {
   "cell_type": "code",
   "execution_count": 63,
   "id": "c32904ec",
   "metadata": {},
   "outputs": [
    {
     "data": {
      "text/plain": [
       "'0180'"
      ]
     },
     "execution_count": 63,
     "metadata": {},
     "output_type": "execute_result"
    }
   ],
   "source": [
    "multiply_fast(\"15\",\"12\",10)"
   ]
  },
  {
   "cell_type": "code",
   "execution_count": 64,
   "id": "0801fd97",
   "metadata": {},
   "outputs": [
    {
     "data": {
      "text/plain": [
       "'07800'"
      ]
     },
     "execution_count": 64,
     "metadata": {},
     "output_type": "execute_result"
    }
   ],
   "source": [
    "multiply_fast(\"150\",\"52\",10)"
   ]
  },
  {
   "cell_type": "code",
   "execution_count": 164,
   "id": "34ba5d01",
   "metadata": {},
   "outputs": [],
   "source": [
    "def to10(u_s, b, f=False):\n",
    "    u_tmp = u_s if f else [str2num[l] for l in u_s]\n",
    "    u = 0\n",
    "    for i in range(len(u_tmp)):\n",
    "        u += b**i * u_tmp[len(u_tmp)-i-1]\n",
    "    return u\n",
    "\n",
    "def tob(u, b, n=1):\n",
    "    q, r = u//b, u%b\n",
    "    w = num2str[r]\n",
    "    while q >= b:\n",
    "        q, r = q//b, q%b\n",
    "        w += num2str[r]\n",
    "    if q != 0:\n",
    "        w += num2str[q]\n",
    "    while len(w)<n:\n",
    "        w += '0'\n",
    "    return w[::-1]"
   ]
  },
  {
   "cell_type": "code",
   "execution_count": 165,
   "id": "c453503c",
   "metadata": {},
   "outputs": [],
   "source": [
    "def divide(u_s,v_s,b):\n",
    "    u = u_s\n",
    "    v = v_s\n",
    "    u_10 = to10(u,b)\n",
    "    v_10 = to10(v,b)\n",
    "    n = len(u)-1\n",
    "    t = len(v)-1\n",
    "    if v == '0': return 'impossible'\n",
    "    \n",
    "    q = [0]*(n-t+1)\n",
    "    while u_10>=v_10 * (b**(n-t)):\n",
    "        q[n-t] += 1\n",
    "        u_10 -= v_10 * (b**(n-t))\n",
    "        \n",
    "    u = tob(u_10,b,n+1)\n",
    "    u,v = make_i(u,v_s)\n",
    "\n",
    "    for i in range(n,t,-1):\n",
    "        if u[n-i]>=v[0]:\n",
    "            q[i-t-1] = b-1\n",
    "        else:\n",
    "            q[i-t-1] = (u[n-i]*b + u[n-i-1])//v[0]\n",
    "        while q[i-t-1]*(v[0]*b+v[1]) > u[n-i]*b*b + u[n-i+1]*b + u[n-i+2]:\n",
    "            q[i-t-1] -= 1\n",
    "        u_10 = to10(u,b,True)\n",
    "        u_10 -= v_10*q[i-t-1]*(b**(i-t-1))\n",
    "        if u_10 < 0:\n",
    "            u_10 += v_10*(b**(i-t-1))\n",
    "            q[i-t-1] -= 1\n",
    "        u = tob(u_10,b,n+1)\n",
    "        u = [str2num[l] for l in u]\n",
    "    return \"\".join([num2str[i] for i in q[::-1]]), \"\".join([num2str[i] for i in u])"
   ]
  },
  {
   "cell_type": "code",
   "execution_count": 163,
   "id": "2c47205e",
   "metadata": {},
   "outputs": [
    {
     "data": {
      "text/plain": [
       "('066', '0010')"
      ]
     },
     "execution_count": 163,
     "metadata": {},
     "output_type": "execute_result"
    }
   ],
   "source": [
    "divide('1000','15',10)"
   ]
  },
  {
   "cell_type": "code",
   "execution_count": 168,
   "id": "13ae65b0",
   "metadata": {},
   "outputs": [
    {
     "data": {
      "text/plain": [
       "('3', '00')"
      ]
     },
     "execution_count": 168,
     "metadata": {},
     "output_type": "execute_result"
    }
   ],
   "source": [
    "divide('81','27',10)"
   ]
  },
  {
   "cell_type": "code",
   "execution_count": 169,
   "id": "ab39d1aa",
   "metadata": {},
   "outputs": [
    {
     "data": {
      "text/plain": [
       "'impossible'"
      ]
     },
     "execution_count": 169,
     "metadata": {},
     "output_type": "execute_result"
    }
   ],
   "source": [
    "divide('81','0',10`)"
   ]
  },
  {
   "cell_type": "code",
   "execution_count": 170,
   "id": "250e6448",
   "metadata": {},
   "outputs": [
    {
     "data": {
      "text/plain": [
       "('0', '81')"
      ]
     },
     "execution_count": 170,
     "metadata": {},
     "output_type": "execute_result"
    }
   ],
   "source": [
    "divide('81','82',10)"
   ]
  },
  {
   "cell_type": "code",
   "execution_count": null,
   "id": "a23b85fd",
   "metadata": {},
   "outputs": [],
   "source": []
  }
 ],
 "metadata": {
  "kernelspec": {
   "display_name": "Python 3 (ipykernel)",
   "language": "python",
   "name": "python3"
  },
  "language_info": {
   "codemirror_mode": {
    "name": "ipython",
    "version": 3
   },
   "file_extension": ".py",
   "mimetype": "text/x-python",
   "name": "python",
   "nbconvert_exporter": "python",
   "pygments_lexer": "ipython3",
   "version": "3.9.12"
  }
 },
 "nbformat": 4,
 "nbformat_minor": 5
}
